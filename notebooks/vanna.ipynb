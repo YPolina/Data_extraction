{
 "cells": [
  {
   "metadata": {
    "ExecuteTime": {
     "end_time": "2025-10-06T08:39:34.844207Z",
     "start_time": "2025-10-06T08:38:42.663248Z"
    }
   },
   "cell_type": "code",
   "source": "%pip install 'vanna[chromadb,openai,postgres]'",
   "id": "fdbb22e520731218",
   "outputs": [
    {
     "name": "stdout",
     "output_type": "stream",
     "text": [
      "Requirement already satisfied: vanna[chromadb,openai,postgres] in /home/user/DWH/minimal_use_case/venv/lib/python3.13/site-packages (0.7.9)\r\n",
      "Requirement already satisfied: requests in /home/user/DWH/minimal_use_case/venv/lib/python3.13/site-packages (from vanna[chromadb,openai,postgres]) (2.32.5)\r\n",
      "Requirement already satisfied: tabulate in /home/user/DWH/minimal_use_case/venv/lib/python3.13/site-packages (from vanna[chromadb,openai,postgres]) (0.9.0)\r\n",
      "Requirement already satisfied: plotly in /home/user/DWH/minimal_use_case/venv/lib/python3.13/site-packages (from vanna[chromadb,openai,postgres]) (6.3.1)\r\n",
      "Requirement already satisfied: pandas in /home/user/DWH/minimal_use_case/venv/lib/python3.13/site-packages (from vanna[chromadb,openai,postgres]) (2.3.3)\r\n",
      "Requirement already satisfied: sqlparse in /home/user/DWH/minimal_use_case/venv/lib/python3.13/site-packages (from vanna[chromadb,openai,postgres]) (0.5.3)\r\n",
      "Requirement already satisfied: kaleido in /home/user/DWH/minimal_use_case/venv/lib/python3.13/site-packages (from vanna[chromadb,openai,postgres]) (1.1.0)\r\n",
      "Requirement already satisfied: flask in /home/user/DWH/minimal_use_case/venv/lib/python3.13/site-packages (from vanna[chromadb,openai,postgres]) (3.1.2)\r\n",
      "Requirement already satisfied: flask-sock in /home/user/DWH/minimal_use_case/venv/lib/python3.13/site-packages (from vanna[chromadb,openai,postgres]) (0.7.0)\r\n",
      "Requirement already satisfied: flasgger in /home/user/DWH/minimal_use_case/venv/lib/python3.13/site-packages (from vanna[chromadb,openai,postgres]) (0.9.7.1)\r\n",
      "Requirement already satisfied: sqlalchemy in /home/user/DWH/minimal_use_case/venv/lib/python3.13/site-packages (from vanna[chromadb,openai,postgres]) (2.0.43)\r\n",
      "Collecting chromadb<1.0.0 (from vanna[chromadb,openai,postgres])\r\n",
      "  Downloading chromadb-0.6.3-py3-none-any.whl.metadata (6.8 kB)\r\n",
      "Collecting openai (from vanna[chromadb,openai,postgres])\r\n",
      "  Downloading openai-2.1.0-py3-none-any.whl.metadata (29 kB)\r\n",
      "Requirement already satisfied: psycopg2-binary in /home/user/DWH/minimal_use_case/venv/lib/python3.13/site-packages (from vanna[chromadb,openai,postgres]) (2.9.10)\r\n",
      "Requirement already satisfied: db-dtypes in /home/user/DWH/minimal_use_case/venv/lib/python3.13/site-packages (from vanna[chromadb,openai,postgres]) (1.4.3)\r\n",
      "Collecting build>=1.0.3 (from chromadb<1.0.0->vanna[chromadb,openai,postgres])\r\n",
      "  Downloading build-1.3.0-py3-none-any.whl.metadata (5.6 kB)\r\n",
      "Requirement already satisfied: pydantic>=1.9 in /home/user/DWH/minimal_use_case/venv/lib/python3.13/site-packages (from chromadb<1.0.0->vanna[chromadb,openai,postgres]) (2.11.9)\r\n",
      "Collecting chroma-hnswlib==0.7.6 (from chromadb<1.0.0->vanna[chromadb,openai,postgres])\r\n",
      "  Downloading chroma_hnswlib-0.7.6.tar.gz (32 kB)\r\n",
      "  Installing build dependencies ... \u001B[?25ldone\r\n",
      "\u001B[?25h  Getting requirements to build wheel ... \u001B[?25ldone\r\n",
      "\u001B[?25h  Preparing metadata (pyproject.toml) ... \u001B[?25ldone\r\n",
      "\u001B[?25hCollecting fastapi>=0.95.2 (from chromadb<1.0.0->vanna[chromadb,openai,postgres])\r\n",
      "  Downloading fastapi-0.118.0-py3-none-any.whl.metadata (28 kB)\r\n",
      "Collecting uvicorn>=0.18.3 (from uvicorn[standard]>=0.18.3->chromadb<1.0.0->vanna[chromadb,openai,postgres])\r\n",
      "  Downloading uvicorn-0.37.0-py3-none-any.whl.metadata (6.6 kB)\r\n",
      "Requirement already satisfied: numpy>=1.22.5 in /home/user/DWH/minimal_use_case/venv/lib/python3.13/site-packages (from chromadb<1.0.0->vanna[chromadb,openai,postgres]) (2.3.3)\r\n",
      "Collecting posthog>=2.4.0 (from chromadb<1.0.0->vanna[chromadb,openai,postgres])\r\n",
      "  Downloading posthog-6.7.6-py3-none-any.whl.metadata (6.0 kB)\r\n",
      "Requirement already satisfied: typing_extensions>=4.5.0 in /home/user/DWH/minimal_use_case/venv/lib/python3.13/site-packages (from chromadb<1.0.0->vanna[chromadb,openai,postgres]) (4.15.0)\r\n",
      "Collecting onnxruntime>=1.14.1 (from chromadb<1.0.0->vanna[chromadb,openai,postgres])\r\n",
      "  Downloading onnxruntime-1.23.0-cp313-cp313-manylinux_2_27_x86_64.manylinux_2_28_x86_64.whl.metadata (4.9 kB)\r\n",
      "Collecting opentelemetry-api>=1.2.0 (from chromadb<1.0.0->vanna[chromadb,openai,postgres])\r\n",
      "  Downloading opentelemetry_api-1.37.0-py3-none-any.whl.metadata (1.5 kB)\r\n",
      "Collecting opentelemetry-exporter-otlp-proto-grpc>=1.2.0 (from chromadb<1.0.0->vanna[chromadb,openai,postgres])\r\n",
      "  Downloading opentelemetry_exporter_otlp_proto_grpc-1.37.0-py3-none-any.whl.metadata (2.4 kB)\r\n",
      "Collecting opentelemetry-instrumentation-fastapi>=0.41b0 (from chromadb<1.0.0->vanna[chromadb,openai,postgres])\r\n",
      "  Downloading opentelemetry_instrumentation_fastapi-0.58b0-py3-none-any.whl.metadata (2.2 kB)\r\n",
      "Collecting opentelemetry-sdk>=1.2.0 (from chromadb<1.0.0->vanna[chromadb,openai,postgres])\r\n",
      "  Downloading opentelemetry_sdk-1.37.0-py3-none-any.whl.metadata (1.5 kB)\r\n",
      "Requirement already satisfied: tokenizers>=0.13.2 in /home/user/DWH/minimal_use_case/venv/lib/python3.13/site-packages (from chromadb<1.0.0->vanna[chromadb,openai,postgres]) (0.22.1)\r\n",
      "Collecting pypika>=0.48.9 (from chromadb<1.0.0->vanna[chromadb,openai,postgres])\r\n",
      "  Downloading PyPika-0.48.9.tar.gz (67 kB)\r\n",
      "  Installing build dependencies ... \u001B[?25ldone\r\n",
      "\u001B[?25h  Getting requirements to build wheel ... \u001B[?25ldone\r\n",
      "\u001B[?25h  Preparing metadata (pyproject.toml) ... \u001B[?25ldone\r\n",
      "\u001B[?25hRequirement already satisfied: tqdm>=4.65.0 in /home/user/DWH/minimal_use_case/venv/lib/python3.13/site-packages (from chromadb<1.0.0->vanna[chromadb,openai,postgres]) (4.67.1)\r\n",
      "Collecting overrides>=7.3.1 (from chromadb<1.0.0->vanna[chromadb,openai,postgres])\r\n",
      "  Downloading overrides-7.7.0-py3-none-any.whl.metadata (5.8 kB)\r\n",
      "Collecting importlib-resources (from chromadb<1.0.0->vanna[chromadb,openai,postgres])\r\n",
      "  Downloading importlib_resources-6.5.2-py3-none-any.whl.metadata (3.9 kB)\r\n",
      "Collecting grpcio>=1.58.0 (from chromadb<1.0.0->vanna[chromadb,openai,postgres])\r\n",
      "  Downloading grpcio-1.75.1-cp313-cp313-manylinux2014_x86_64.manylinux_2_17_x86_64.whl.metadata (3.7 kB)\r\n",
      "Collecting bcrypt>=4.0.1 (from chromadb<1.0.0->vanna[chromadb,openai,postgres])\r\n",
      "  Downloading bcrypt-5.0.0-cp39-abi3-manylinux_2_34_x86_64.whl.metadata (10 kB)\r\n",
      "Requirement already satisfied: typer>=0.9.0 in /home/user/DWH/minimal_use_case/venv/lib/python3.13/site-packages (from chromadb<1.0.0->vanna[chromadb,openai,postgres]) (0.19.2)\r\n",
      "Collecting kubernetes>=28.1.0 (from chromadb<1.0.0->vanna[chromadb,openai,postgres])\r\n",
      "  Downloading kubernetes-34.1.0-py2.py3-none-any.whl.metadata (1.7 kB)\r\n",
      "Collecting tenacity>=8.2.3 (from chromadb<1.0.0->vanna[chromadb,openai,postgres])\r\n",
      "  Downloading tenacity-9.1.2-py3-none-any.whl.metadata (1.2 kB)\r\n",
      "Requirement already satisfied: PyYAML>=6.0.0 in /home/user/DWH/minimal_use_case/venv/lib/python3.13/site-packages (from chromadb<1.0.0->vanna[chromadb,openai,postgres]) (6.0.3)\r\n",
      "Collecting mmh3>=4.0.1 (from chromadb<1.0.0->vanna[chromadb,openai,postgres])\r\n",
      "  Downloading mmh3-5.2.0-cp313-cp313-manylinux1_x86_64.manylinux_2_28_x86_64.manylinux_2_5_x86_64.whl.metadata (14 kB)\r\n",
      "Requirement already satisfied: orjson>=3.9.12 in /home/user/DWH/minimal_use_case/venv/lib/python3.13/site-packages (from chromadb<1.0.0->vanna[chromadb,openai,postgres]) (3.11.3)\r\n",
      "Requirement already satisfied: httpx>=0.27.0 in /home/user/DWH/minimal_use_case/venv/lib/python3.13/site-packages (from chromadb<1.0.0->vanna[chromadb,openai,postgres]) (0.28.1)\r\n",
      "Requirement already satisfied: rich>=10.11.0 in /home/user/DWH/minimal_use_case/venv/lib/python3.13/site-packages (from chromadb<1.0.0->vanna[chromadb,openai,postgres]) (14.1.0)\r\n",
      "Requirement already satisfied: packaging>=24.2.0 in /home/user/DWH/minimal_use_case/venv/lib/python3.13/site-packages (from db-dtypes->vanna[chromadb,openai,postgres]) (25.0)\r\n",
      "Requirement already satisfied: pyarrow>=13.0.0 in /home/user/DWH/minimal_use_case/venv/lib/python3.13/site-packages (from db-dtypes->vanna[chromadb,openai,postgres]) (21.0.0)\r\n",
      "Requirement already satisfied: python-dateutil>=2.8.2 in /home/user/DWH/minimal_use_case/venv/lib/python3.13/site-packages (from pandas->vanna[chromadb,openai,postgres]) (2.9.0.post0)\r\n",
      "Requirement already satisfied: pytz>=2020.1 in /home/user/DWH/minimal_use_case/venv/lib/python3.13/site-packages (from pandas->vanna[chromadb,openai,postgres]) (2025.2)\r\n",
      "Requirement already satisfied: tzdata>=2022.7 in /home/user/DWH/minimal_use_case/venv/lib/python3.13/site-packages (from pandas->vanna[chromadb,openai,postgres]) (2025.2)\r\n",
      "Requirement already satisfied: jsonschema>=3.0.1 in /home/user/DWH/minimal_use_case/venv/lib/python3.13/site-packages (from flasgger->vanna[chromadb,openai,postgres]) (4.25.1)\r\n",
      "Requirement already satisfied: mistune in /home/user/DWH/minimal_use_case/venv/lib/python3.13/site-packages (from flasgger->vanna[chromadb,openai,postgres]) (3.1.4)\r\n",
      "Requirement already satisfied: six>=1.10.0 in /home/user/DWH/minimal_use_case/venv/lib/python3.13/site-packages (from flasgger->vanna[chromadb,openai,postgres]) (1.17.0)\r\n",
      "Requirement already satisfied: blinker>=1.9.0 in /home/user/DWH/minimal_use_case/venv/lib/python3.13/site-packages (from flask->vanna[chromadb,openai,postgres]) (1.9.0)\r\n",
      "Requirement already satisfied: click>=8.1.3 in /home/user/DWH/minimal_use_case/venv/lib/python3.13/site-packages (from flask->vanna[chromadb,openai,postgres]) (8.3.0)\r\n",
      "Requirement already satisfied: itsdangerous>=2.2.0 in /home/user/DWH/minimal_use_case/venv/lib/python3.13/site-packages (from flask->vanna[chromadb,openai,postgres]) (2.2.0)\r\n",
      "Requirement already satisfied: jinja2>=3.1.2 in /home/user/DWH/minimal_use_case/venv/lib/python3.13/site-packages (from flask->vanna[chromadb,openai,postgres]) (3.1.6)\r\n",
      "Requirement already satisfied: markupsafe>=2.1.1 in /home/user/DWH/minimal_use_case/venv/lib/python3.13/site-packages (from flask->vanna[chromadb,openai,postgres]) (3.0.3)\r\n",
      "Requirement already satisfied: werkzeug>=3.1.0 in /home/user/DWH/minimal_use_case/venv/lib/python3.13/site-packages (from flask->vanna[chromadb,openai,postgres]) (3.1.3)\r\n",
      "Requirement already satisfied: simple-websocket>=0.5.1 in /home/user/DWH/minimal_use_case/venv/lib/python3.13/site-packages (from flask-sock->vanna[chromadb,openai,postgres]) (1.1.0)\r\n",
      "Requirement already satisfied: choreographer>=1.0.10 in /home/user/DWH/minimal_use_case/venv/lib/python3.13/site-packages (from kaleido->vanna[chromadb,openai,postgres]) (1.1.1)\r\n",
      "Requirement already satisfied: logistro>=1.0.8 in /home/user/DWH/minimal_use_case/venv/lib/python3.13/site-packages (from kaleido->vanna[chromadb,openai,postgres]) (1.1.0)\r\n",
      "Requirement already satisfied: pytest-timeout>=2.4.0 in /home/user/DWH/minimal_use_case/venv/lib/python3.13/site-packages (from kaleido->vanna[chromadb,openai,postgres]) (2.4.0)\r\n",
      "Requirement already satisfied: anyio<5,>=3.5.0 in /home/user/DWH/minimal_use_case/venv/lib/python3.13/site-packages (from openai->vanna[chromadb,openai,postgres]) (4.11.0)\r\n",
      "Collecting distro<2,>=1.7.0 (from openai->vanna[chromadb,openai,postgres])\r\n",
      "  Downloading distro-1.9.0-py3-none-any.whl.metadata (6.8 kB)\r\n",
      "Collecting jiter<1,>=0.4.0 (from openai->vanna[chromadb,openai,postgres])\r\n",
      "  Downloading jiter-0.11.0-cp313-cp313-manylinux_2_17_x86_64.manylinux2014_x86_64.whl.metadata (5.2 kB)\r\n",
      "Requirement already satisfied: sniffio in /home/user/DWH/minimal_use_case/venv/lib/python3.13/site-packages (from openai->vanna[chromadb,openai,postgres]) (1.3.1)\r\n",
      "Requirement already satisfied: narwhals>=1.15.1 in /home/user/DWH/minimal_use_case/venv/lib/python3.13/site-packages (from plotly->vanna[chromadb,openai,postgres]) (2.6.0)\r\n",
      "Requirement already satisfied: charset_normalizer<4,>=2 in /home/user/DWH/minimal_use_case/venv/lib/python3.13/site-packages (from requests->vanna[chromadb,openai,postgres]) (3.4.3)\r\n",
      "Requirement already satisfied: idna<4,>=2.5 in /home/user/DWH/minimal_use_case/venv/lib/python3.13/site-packages (from requests->vanna[chromadb,openai,postgres]) (3.10)\r\n",
      "Requirement already satisfied: urllib3<3,>=1.21.1 in /home/user/DWH/minimal_use_case/venv/lib/python3.13/site-packages (from requests->vanna[chromadb,openai,postgres]) (2.5.0)\r\n",
      "Requirement already satisfied: certifi>=2017.4.17 in /home/user/DWH/minimal_use_case/venv/lib/python3.13/site-packages (from requests->vanna[chromadb,openai,postgres]) (2025.8.3)\r\n",
      "Requirement already satisfied: greenlet>=1 in /home/user/DWH/minimal_use_case/venv/lib/python3.13/site-packages (from sqlalchemy->vanna[chromadb,openai,postgres]) (3.2.4)\r\n",
      "Collecting pyproject_hooks (from build>=1.0.3->chromadb<1.0.0->vanna[chromadb,openai,postgres])\r\n",
      "  Downloading pyproject_hooks-1.2.0-py3-none-any.whl.metadata (1.3 kB)\r\n",
      "Requirement already satisfied: simplejson>=3.19.3 in /home/user/DWH/minimal_use_case/venv/lib/python3.13/site-packages (from choreographer>=1.0.10->kaleido->vanna[chromadb,openai,postgres]) (3.20.2)\r\n",
      "Collecting starlette<0.49.0,>=0.40.0 (from fastapi>=0.95.2->chromadb<1.0.0->vanna[chromadb,openai,postgres])\r\n",
      "  Downloading starlette-0.48.0-py3-none-any.whl.metadata (6.3 kB)\r\n",
      "Requirement already satisfied: httpcore==1.* in /home/user/DWH/minimal_use_case/venv/lib/python3.13/site-packages (from httpx>=0.27.0->chromadb<1.0.0->vanna[chromadb,openai,postgres]) (1.0.9)\r\n",
      "Requirement already satisfied: h11>=0.16 in /home/user/DWH/minimal_use_case/venv/lib/python3.13/site-packages (from httpcore==1.*->httpx>=0.27.0->chromadb<1.0.0->vanna[chromadb,openai,postgres]) (0.16.0)\r\n",
      "Requirement already satisfied: attrs>=22.2.0 in /home/user/DWH/minimal_use_case/venv/lib/python3.13/site-packages (from jsonschema>=3.0.1->flasgger->vanna[chromadb,openai,postgres]) (25.3.0)\r\n",
      "Requirement already satisfied: jsonschema-specifications>=2023.03.6 in /home/user/DWH/minimal_use_case/venv/lib/python3.13/site-packages (from jsonschema>=3.0.1->flasgger->vanna[chromadb,openai,postgres]) (2025.9.1)\r\n",
      "Requirement already satisfied: referencing>=0.28.4 in /home/user/DWH/minimal_use_case/venv/lib/python3.13/site-packages (from jsonschema>=3.0.1->flasgger->vanna[chromadb,openai,postgres]) (0.36.2)\r\n",
      "Requirement already satisfied: rpds-py>=0.7.1 in /home/user/DWH/minimal_use_case/venv/lib/python3.13/site-packages (from jsonschema>=3.0.1->flasgger->vanna[chromadb,openai,postgres]) (0.27.1)\r\n",
      "Collecting google-auth>=1.0.1 (from kubernetes>=28.1.0->chromadb<1.0.0->vanna[chromadb,openai,postgres])\r\n",
      "  Downloading google_auth-2.41.1-py2.py3-none-any.whl.metadata (6.6 kB)\r\n",
      "Requirement already satisfied: websocket-client!=0.40.0,!=0.41.*,!=0.42.*,>=0.32.0 in /home/user/DWH/minimal_use_case/venv/lib/python3.13/site-packages (from kubernetes>=28.1.0->chromadb<1.0.0->vanna[chromadb,openai,postgres]) (1.8.0)\r\n",
      "Collecting requests-oauthlib (from kubernetes>=28.1.0->chromadb<1.0.0->vanna[chromadb,openai,postgres])\r\n",
      "  Downloading requests_oauthlib-2.0.0-py2.py3-none-any.whl.metadata (11 kB)\r\n",
      "Collecting urllib3<3,>=1.21.1 (from requests->vanna[chromadb,openai,postgres])\r\n",
      "  Downloading urllib3-2.3.0-py3-none-any.whl.metadata (6.5 kB)\r\n",
      "Collecting durationpy>=0.7 (from kubernetes>=28.1.0->chromadb<1.0.0->vanna[chromadb,openai,postgres])\r\n",
      "  Downloading durationpy-0.10-py3-none-any.whl.metadata (340 bytes)\r\n",
      "Collecting coloredlogs (from onnxruntime>=1.14.1->chromadb<1.0.0->vanna[chromadb,openai,postgres])\r\n",
      "  Downloading coloredlogs-15.0.1-py2.py3-none-any.whl.metadata (12 kB)\r\n",
      "Collecting flatbuffers (from onnxruntime>=1.14.1->chromadb<1.0.0->vanna[chromadb,openai,postgres])\r\n",
      "  Downloading flatbuffers-25.9.23-py2.py3-none-any.whl.metadata (875 bytes)\r\n",
      "Collecting protobuf (from onnxruntime>=1.14.1->chromadb<1.0.0->vanna[chromadb,openai,postgres])\r\n",
      "  Downloading protobuf-6.32.1-cp39-abi3-manylinux2014_x86_64.whl.metadata (593 bytes)\r\n",
      "Requirement already satisfied: sympy in /home/user/DWH/minimal_use_case/venv/lib/python3.13/site-packages (from onnxruntime>=1.14.1->chromadb<1.0.0->vanna[chromadb,openai,postgres]) (1.14.0)\r\n",
      "Collecting importlib-metadata<8.8.0,>=6.0 (from opentelemetry-api>=1.2.0->chromadb<1.0.0->vanna[chromadb,openai,postgres])\r\n",
      "  Downloading importlib_metadata-8.7.0-py3-none-any.whl.metadata (4.8 kB)\r\n",
      "Collecting googleapis-common-protos~=1.57 (from opentelemetry-exporter-otlp-proto-grpc>=1.2.0->chromadb<1.0.0->vanna[chromadb,openai,postgres])\r\n",
      "  Downloading googleapis_common_protos-1.70.0-py3-none-any.whl.metadata (9.3 kB)\r\n",
      "Collecting opentelemetry-exporter-otlp-proto-common==1.37.0 (from opentelemetry-exporter-otlp-proto-grpc>=1.2.0->chromadb<1.0.0->vanna[chromadb,openai,postgres])\r\n",
      "  Downloading opentelemetry_exporter_otlp_proto_common-1.37.0-py3-none-any.whl.metadata (1.8 kB)\r\n",
      "Collecting opentelemetry-proto==1.37.0 (from opentelemetry-exporter-otlp-proto-grpc>=1.2.0->chromadb<1.0.0->vanna[chromadb,openai,postgres])\r\n",
      "  Downloading opentelemetry_proto-1.37.0-py3-none-any.whl.metadata (2.3 kB)\r\n",
      "Collecting opentelemetry-instrumentation-asgi==0.58b0 (from opentelemetry-instrumentation-fastapi>=0.41b0->chromadb<1.0.0->vanna[chromadb,openai,postgres])\r\n",
      "  Downloading opentelemetry_instrumentation_asgi-0.58b0-py3-none-any.whl.metadata (2.0 kB)\r\n",
      "Collecting opentelemetry-instrumentation==0.58b0 (from opentelemetry-instrumentation-fastapi>=0.41b0->chromadb<1.0.0->vanna[chromadb,openai,postgres])\r\n",
      "  Downloading opentelemetry_instrumentation-0.58b0-py3-none-any.whl.metadata (7.1 kB)\r\n",
      "Collecting opentelemetry-semantic-conventions==0.58b0 (from opentelemetry-instrumentation-fastapi>=0.41b0->chromadb<1.0.0->vanna[chromadb,openai,postgres])\r\n",
      "  Downloading opentelemetry_semantic_conventions-0.58b0-py3-none-any.whl.metadata (2.4 kB)\r\n",
      "Collecting opentelemetry-util-http==0.58b0 (from opentelemetry-instrumentation-fastapi>=0.41b0->chromadb<1.0.0->vanna[chromadb,openai,postgres])\r\n",
      "  Downloading opentelemetry_util_http-0.58b0-py3-none-any.whl.metadata (2.6 kB)\r\n",
      "Requirement already satisfied: wrapt<2.0.0,>=1.0.0 in /home/user/DWH/minimal_use_case/venv/lib/python3.13/site-packages (from opentelemetry-instrumentation==0.58b0->opentelemetry-instrumentation-fastapi>=0.41b0->chromadb<1.0.0->vanna[chromadb,openai,postgres]) (1.17.3)\r\n",
      "Collecting asgiref~=3.0 (from opentelemetry-instrumentation-asgi==0.58b0->opentelemetry-instrumentation-fastapi>=0.41b0->chromadb<1.0.0->vanna[chromadb,openai,postgres])\r\n",
      "  Downloading asgiref-3.10.0-py3-none-any.whl.metadata (9.3 kB)\r\n",
      "Collecting backoff>=1.10.0 (from posthog>=2.4.0->chromadb<1.0.0->vanna[chromadb,openai,postgres])\r\n",
      "  Downloading backoff-2.2.1-py3-none-any.whl.metadata (14 kB)\r\n",
      "Requirement already satisfied: annotated-types>=0.6.0 in /home/user/DWH/minimal_use_case/venv/lib/python3.13/site-packages (from pydantic>=1.9->chromadb<1.0.0->vanna[chromadb,openai,postgres]) (0.7.0)\r\n",
      "Requirement already satisfied: pydantic-core==2.33.2 in /home/user/DWH/minimal_use_case/venv/lib/python3.13/site-packages (from pydantic>=1.9->chromadb<1.0.0->vanna[chromadb,openai,postgres]) (2.33.2)\r\n",
      "Requirement already satisfied: typing-inspection>=0.4.0 in /home/user/DWH/minimal_use_case/venv/lib/python3.13/site-packages (from pydantic>=1.9->chromadb<1.0.0->vanna[chromadb,openai,postgres]) (0.4.1)\r\n",
      "Requirement already satisfied: pytest>=7.0.0 in /home/user/DWH/minimal_use_case/venv/lib/python3.13/site-packages (from pytest-timeout>=2.4.0->kaleido->vanna[chromadb,openai,postgres]) (8.4.2)\r\n",
      "Requirement already satisfied: markdown-it-py>=2.2.0 in /home/user/DWH/minimal_use_case/venv/lib/python3.13/site-packages (from rich>=10.11.0->chromadb<1.0.0->vanna[chromadb,openai,postgres]) (4.0.0)\r\n",
      "Requirement already satisfied: pygments<3.0.0,>=2.13.0 in /home/user/DWH/minimal_use_case/venv/lib/python3.13/site-packages (from rich>=10.11.0->chromadb<1.0.0->vanna[chromadb,openai,postgres]) (2.19.2)\r\n",
      "Requirement already satisfied: wsproto in /home/user/DWH/minimal_use_case/venv/lib/python3.13/site-packages (from simple-websocket>=0.5.1->flask-sock->vanna[chromadb,openai,postgres]) (1.2.0)\r\n",
      "Requirement already satisfied: huggingface-hub<2.0,>=0.16.4 in /home/user/DWH/minimal_use_case/venv/lib/python3.13/site-packages (from tokenizers>=0.13.2->chromadb<1.0.0->vanna[chromadb,openai,postgres]) (0.35.3)\r\n",
      "Requirement already satisfied: shellingham>=1.3.0 in /home/user/DWH/minimal_use_case/venv/lib/python3.13/site-packages (from typer>=0.9.0->chromadb<1.0.0->vanna[chromadb,openai,postgres]) (1.5.4)\r\n",
      "Collecting httptools>=0.6.3 (from uvicorn[standard]>=0.18.3->chromadb<1.0.0->vanna[chromadb,openai,postgres])\r\n",
      "  Downloading httptools-0.6.4-cp313-cp313-manylinux_2_5_x86_64.manylinux1_x86_64.manylinux_2_17_x86_64.manylinux2014_x86_64.whl.metadata (3.6 kB)\r\n",
      "Requirement already satisfied: python-dotenv>=0.13 in /home/user/DWH/minimal_use_case/venv/lib/python3.13/site-packages (from uvicorn[standard]>=0.18.3->chromadb<1.0.0->vanna[chromadb,openai,postgres]) (1.1.1)\r\n",
      "Collecting uvloop>=0.15.1 (from uvicorn[standard]>=0.18.3->chromadb<1.0.0->vanna[chromadb,openai,postgres])\r\n",
      "  Downloading uvloop-0.21.0-cp313-cp313-manylinux_2_17_x86_64.manylinux2014_x86_64.whl.metadata (4.9 kB)\r\n",
      "Collecting watchfiles>=0.13 (from uvicorn[standard]>=0.18.3->chromadb<1.0.0->vanna[chromadb,openai,postgres])\r\n",
      "  Downloading watchfiles-1.1.0-cp313-cp313-manylinux_2_17_x86_64.manylinux2014_x86_64.whl.metadata (4.9 kB)\r\n",
      "Collecting websockets>=10.4 (from uvicorn[standard]>=0.18.3->chromadb<1.0.0->vanna[chromadb,openai,postgres])\r\n",
      "  Downloading websockets-15.0.1-cp313-cp313-manylinux_2_5_x86_64.manylinux1_x86_64.manylinux_2_17_x86_64.manylinux2014_x86_64.whl.metadata (6.8 kB)\r\n",
      "Collecting cachetools<7.0,>=2.0.0 (from google-auth>=1.0.1->kubernetes>=28.1.0->chromadb<1.0.0->vanna[chromadb,openai,postgres])\r\n",
      "  Downloading cachetools-6.2.0-py3-none-any.whl.metadata (5.4 kB)\r\n",
      "Collecting pyasn1-modules>=0.2.1 (from google-auth>=1.0.1->kubernetes>=28.1.0->chromadb<1.0.0->vanna[chromadb,openai,postgres])\r\n",
      "  Downloading pyasn1_modules-0.4.2-py3-none-any.whl.metadata (3.5 kB)\r\n",
      "Collecting rsa<5,>=3.1.4 (from google-auth>=1.0.1->kubernetes>=28.1.0->chromadb<1.0.0->vanna[chromadb,openai,postgres])\r\n",
      "  Downloading rsa-4.9.1-py3-none-any.whl.metadata (5.6 kB)\r\n",
      "Requirement already satisfied: filelock in /home/user/DWH/minimal_use_case/venv/lib/python3.13/site-packages (from huggingface-hub<2.0,>=0.16.4->tokenizers>=0.13.2->chromadb<1.0.0->vanna[chromadb,openai,postgres]) (3.19.1)\r\n",
      "Requirement already satisfied: fsspec>=2023.5.0 in /home/user/DWH/minimal_use_case/venv/lib/python3.13/site-packages (from huggingface-hub<2.0,>=0.16.4->tokenizers>=0.13.2->chromadb<1.0.0->vanna[chromadb,openai,postgres]) (2025.9.0)\r\n",
      "Requirement already satisfied: hf-xet<2.0.0,>=1.1.3 in /home/user/DWH/minimal_use_case/venv/lib/python3.13/site-packages (from huggingface-hub<2.0,>=0.16.4->tokenizers>=0.13.2->chromadb<1.0.0->vanna[chromadb,openai,postgres]) (1.1.10)\r\n",
      "Collecting zipp>=3.20 (from importlib-metadata<8.8.0,>=6.0->opentelemetry-api>=1.2.0->chromadb<1.0.0->vanna[chromadb,openai,postgres])\r\n",
      "  Downloading zipp-3.23.0-py3-none-any.whl.metadata (3.6 kB)\r\n",
      "Requirement already satisfied: mdurl~=0.1 in /home/user/DWH/minimal_use_case/venv/lib/python3.13/site-packages (from markdown-it-py>=2.2.0->rich>=10.11.0->chromadb<1.0.0->vanna[chromadb,openai,postgres]) (0.1.2)\r\n",
      "Requirement already satisfied: iniconfig>=1 in /home/user/DWH/minimal_use_case/venv/lib/python3.13/site-packages (from pytest>=7.0.0->pytest-timeout>=2.4.0->kaleido->vanna[chromadb,openai,postgres]) (2.1.0)\r\n",
      "Requirement already satisfied: pluggy<2,>=1.5 in /home/user/DWH/minimal_use_case/venv/lib/python3.13/site-packages (from pytest>=7.0.0->pytest-timeout>=2.4.0->kaleido->vanna[chromadb,openai,postgres]) (1.6.0)\r\n",
      "Collecting humanfriendly>=9.1 (from coloredlogs->onnxruntime>=1.14.1->chromadb<1.0.0->vanna[chromadb,openai,postgres])\r\n",
      "  Downloading humanfriendly-10.0-py2.py3-none-any.whl.metadata (9.2 kB)\r\n",
      "Collecting oauthlib>=3.0.0 (from requests-oauthlib->kubernetes>=28.1.0->chromadb<1.0.0->vanna[chromadb,openai,postgres])\r\n",
      "  Downloading oauthlib-3.3.1-py3-none-any.whl.metadata (7.9 kB)\r\n",
      "Requirement already satisfied: mpmath<1.4,>=1.1.0 in /home/user/DWH/minimal_use_case/venv/lib/python3.13/site-packages (from sympy->onnxruntime>=1.14.1->chromadb<1.0.0->vanna[chromadb,openai,postgres]) (1.3.0)\r\n",
      "Collecting pyasn1<0.7.0,>=0.6.1 (from pyasn1-modules>=0.2.1->google-auth>=1.0.1->kubernetes>=28.1.0->chromadb<1.0.0->vanna[chromadb,openai,postgres])\r\n",
      "  Downloading pyasn1-0.6.1-py3-none-any.whl.metadata (8.4 kB)\r\n",
      "Downloading chromadb-0.6.3-py3-none-any.whl (611 kB)\r\n",
      "\u001B[2K   \u001B[90m━━━━━━━━━━━━━━━━━━━━━━━━━━━━━━━━━━━━━━━━\u001B[0m \u001B[32m611.1/611.1 kB\u001B[0m \u001B[31m8.1 MB/s\u001B[0m eta \u001B[36m0:00:00\u001B[0m\r\n",
      "\u001B[?25hDownloading openai-2.1.0-py3-none-any.whl (964 kB)\r\n",
      "\u001B[2K   \u001B[90m━━━━━━━━━━━━━━━━━━━━━━━━━━━━━━━━━━━━━━━━\u001B[0m \u001B[32m964.9/964.9 kB\u001B[0m \u001B[31m17.6 MB/s\u001B[0m eta \u001B[36m0:00:00\u001B[0m\r\n",
      "\u001B[?25hDownloading bcrypt-5.0.0-cp39-abi3-manylinux_2_34_x86_64.whl (278 kB)\r\n",
      "Downloading build-1.3.0-py3-none-any.whl (23 kB)\r\n",
      "Downloading distro-1.9.0-py3-none-any.whl (20 kB)\r\n",
      "Downloading fastapi-0.118.0-py3-none-any.whl (97 kB)\r\n",
      "Downloading grpcio-1.75.1-cp313-cp313-manylinux2014_x86_64.manylinux_2_17_x86_64.whl (6.4 MB)\r\n",
      "\u001B[2K   \u001B[90m━━━━━━━━━━━━━━━━━━━━━━━━━━━━━━━━━━━━━━━━\u001B[0m \u001B[32m6.4/6.4 MB\u001B[0m \u001B[31m10.1 MB/s\u001B[0m eta \u001B[36m0:00:00\u001B[0m00:01\u001B[0m00:01\u001B[0m\r\n",
      "\u001B[?25hDownloading jiter-0.11.0-cp313-cp313-manylinux_2_17_x86_64.manylinux2014_x86_64.whl (347 kB)\r\n",
      "Downloading kubernetes-34.1.0-py2.py3-none-any.whl (2.0 MB)\r\n",
      "\u001B[2K   \u001B[90m━━━━━━━━━━━━━━━━━━━━━━━━━━━━━━━━━━━━━━━━\u001B[0m \u001B[32m2.0/2.0 MB\u001B[0m \u001B[31m9.0 MB/s\u001B[0m eta \u001B[36m0:00:00\u001B[0mta \u001B[36m0:00:01\u001B[0m\r\n",
      "\u001B[?25hDownloading mmh3-5.2.0-cp313-cp313-manylinux1_x86_64.manylinux_2_28_x86_64.manylinux_2_5_x86_64.whl (103 kB)\r\n",
      "Downloading onnxruntime-1.23.0-cp313-cp313-manylinux_2_27_x86_64.manylinux_2_28_x86_64.whl (17.3 MB)\r\n",
      "\u001B[2K   \u001B[90m━━━━━━━━━━━━━━━━━━━━━━━━━━━━━━━━━━━━━━━━\u001B[0m \u001B[32m17.3/17.3 MB\u001B[0m \u001B[31m5.9 MB/s\u001B[0m eta \u001B[36m0:00:00\u001B[0ma \u001B[36m0:00:01\u001B[0m\r\n",
      "\u001B[?25hDownloading opentelemetry_api-1.37.0-py3-none-any.whl (65 kB)\r\n",
      "Downloading opentelemetry_exporter_otlp_proto_grpc-1.37.0-py3-none-any.whl (19 kB)\r\n",
      "Downloading opentelemetry_exporter_otlp_proto_common-1.37.0-py3-none-any.whl (18 kB)\r\n",
      "Downloading opentelemetry_proto-1.37.0-py3-none-any.whl (72 kB)\r\n",
      "Downloading opentelemetry_instrumentation_fastapi-0.58b0-py3-none-any.whl (13 kB)\r\n",
      "Downloading opentelemetry_instrumentation-0.58b0-py3-none-any.whl (33 kB)\r\n",
      "Downloading opentelemetry_instrumentation_asgi-0.58b0-py3-none-any.whl (16 kB)\r\n",
      "Downloading opentelemetry_semantic_conventions-0.58b0-py3-none-any.whl (207 kB)\r\n",
      "Downloading opentelemetry_util_http-0.58b0-py3-none-any.whl (7.7 kB)\r\n",
      "Downloading opentelemetry_sdk-1.37.0-py3-none-any.whl (131 kB)\r\n",
      "Downloading overrides-7.7.0-py3-none-any.whl (17 kB)\r\n",
      "Downloading posthog-6.7.6-py3-none-any.whl (137 kB)\r\n",
      "Downloading tenacity-9.1.2-py3-none-any.whl (28 kB)\r\n",
      "Downloading urllib3-2.3.0-py3-none-any.whl (128 kB)\r\n",
      "Downloading uvicorn-0.37.0-py3-none-any.whl (67 kB)\r\n",
      "Downloading importlib_resources-6.5.2-py3-none-any.whl (37 kB)\r\n",
      "Downloading backoff-2.2.1-py3-none-any.whl (15 kB)\r\n",
      "Downloading durationpy-0.10-py3-none-any.whl (3.9 kB)\r\n",
      "Downloading google_auth-2.41.1-py2.py3-none-any.whl (221 kB)\r\n",
      "Downloading googleapis_common_protos-1.70.0-py3-none-any.whl (294 kB)\r\n",
      "Downloading httptools-0.6.4-cp313-cp313-manylinux_2_5_x86_64.manylinux1_x86_64.manylinux_2_17_x86_64.manylinux2014_x86_64.whl (473 kB)\r\n",
      "Downloading importlib_metadata-8.7.0-py3-none-any.whl (27 kB)\r\n",
      "Downloading protobuf-6.32.1-cp39-abi3-manylinux2014_x86_64.whl (322 kB)\r\n",
      "Downloading starlette-0.48.0-py3-none-any.whl (73 kB)\r\n",
      "Downloading uvloop-0.21.0-cp313-cp313-manylinux_2_17_x86_64.manylinux2014_x86_64.whl (4.7 MB)\r\n",
      "\u001B[2K   \u001B[90m━━━━━━━━━━━━━━━━━━━━━━━━━━━━━━━━━━━━━━━━\u001B[0m \u001B[32m4.7/4.7 MB\u001B[0m \u001B[31m8.5 MB/s\u001B[0m eta \u001B[36m0:00:00\u001B[0mta \u001B[36m0:00:01\u001B[0m\r\n",
      "\u001B[?25hDownloading watchfiles-1.1.0-cp313-cp313-manylinux_2_17_x86_64.manylinux2014_x86_64.whl (451 kB)\r\n",
      "Downloading websockets-15.0.1-cp313-cp313-manylinux_2_5_x86_64.manylinux1_x86_64.manylinux_2_17_x86_64.manylinux2014_x86_64.whl (182 kB)\r\n",
      "Downloading coloredlogs-15.0.1-py2.py3-none-any.whl (46 kB)\r\n",
      "Downloading flatbuffers-25.9.23-py2.py3-none-any.whl (30 kB)\r\n",
      "Downloading pyproject_hooks-1.2.0-py3-none-any.whl (10 kB)\r\n",
      "Downloading requests_oauthlib-2.0.0-py2.py3-none-any.whl (24 kB)\r\n",
      "Downloading asgiref-3.10.0-py3-none-any.whl (24 kB)\r\n",
      "Downloading cachetools-6.2.0-py3-none-any.whl (11 kB)\r\n",
      "Downloading humanfriendly-10.0-py2.py3-none-any.whl (86 kB)\r\n",
      "Downloading oauthlib-3.3.1-py3-none-any.whl (160 kB)\r\n",
      "Downloading pyasn1_modules-0.4.2-py3-none-any.whl (181 kB)\r\n",
      "Downloading rsa-4.9.1-py3-none-any.whl (34 kB)\r\n",
      "Downloading zipp-3.23.0-py3-none-any.whl (10 kB)\r\n",
      "Downloading pyasn1-0.6.1-py3-none-any.whl (83 kB)\r\n",
      "Building wheels for collected packages: chroma-hnswlib, pypika\r\n",
      "  Building wheel for chroma-hnswlib (pyproject.toml) ... \u001B[?25ldone\r\n",
      "\u001B[?25h  Created wheel for chroma-hnswlib: filename=chroma_hnswlib-0.7.6-cp313-cp313-linux_x86_64.whl size=227072 sha256=097b27f7e848f8eee173fe4f4608d29b6d56c678e3cb8867bf96e7269a7bbc7c\r\n",
      "  Stored in directory: /home/user/.cache/pip/wheels/e4/de/05/47d2e8cd71d86b683765286c3308516ddcb7e8bf7db44fa69f\r\n",
      "  Building wheel for pypika (pyproject.toml) ... \u001B[?25ldone\r\n",
      "\u001B[?25h  Created wheel for pypika: filename=pypika-0.48.9-py2.py3-none-any.whl size=53803 sha256=13310dea90aebd6c7d212237ab39b61a23c1c43e750bed23400cb1e32b0b0ab6\r\n",
      "  Stored in directory: /home/user/.cache/pip/wheels/b4/f8/a5/28e9c1524d320f4b8eefdce0e487b5c2e128dbf2ed1bb4a60b\r\n",
      "Successfully built chroma-hnswlib pypika\r\n",
      "Installing collected packages: pypika, flatbuffers, durationpy, zipp, websockets, uvloop, uvicorn, urllib3, tenacity, pyproject_hooks, pyasn1, protobuf, overrides, opentelemetry-util-http, oauthlib, mmh3, jiter, importlib-resources, humanfriendly, httptools, grpcio, distro, chroma-hnswlib, cachetools, bcrypt, backoff, asgiref, watchfiles, starlette, rsa, pyasn1-modules, opentelemetry-proto, importlib-metadata, googleapis-common-protos, coloredlogs, build, requests-oauthlib, posthog, opentelemetry-exporter-otlp-proto-common, opentelemetry-api, openai, onnxruntime, google-auth, fastapi, opentelemetry-semantic-conventions, kubernetes, opentelemetry-sdk, opentelemetry-instrumentation, opentelemetry-instrumentation-asgi, opentelemetry-exporter-otlp-proto-grpc, opentelemetry-instrumentation-fastapi, chromadb\r\n",
      "  Attempting uninstall: urllib3\r\n",
      "    Found existing installation: urllib3 2.5.0\r\n",
      "    Uninstalling urllib3-2.5.0:\r\n",
      "      Successfully uninstalled urllib3-2.5.0\r\n",
      "Successfully installed asgiref-3.10.0 backoff-2.2.1 bcrypt-5.0.0 build-1.3.0 cachetools-6.2.0 chroma-hnswlib-0.7.6 chromadb-0.6.3 coloredlogs-15.0.1 distro-1.9.0 durationpy-0.10 fastapi-0.118.0 flatbuffers-25.9.23 google-auth-2.41.1 googleapis-common-protos-1.70.0 grpcio-1.75.1 httptools-0.6.4 humanfriendly-10.0 importlib-metadata-8.7.0 importlib-resources-6.5.2 jiter-0.11.0 kubernetes-34.1.0 mmh3-5.2.0 oauthlib-3.3.1 onnxruntime-1.23.0 openai-2.1.0 opentelemetry-api-1.37.0 opentelemetry-exporter-otlp-proto-common-1.37.0 opentelemetry-exporter-otlp-proto-grpc-1.37.0 opentelemetry-instrumentation-0.58b0 opentelemetry-instrumentation-asgi-0.58b0 opentelemetry-instrumentation-fastapi-0.58b0 opentelemetry-proto-1.37.0 opentelemetry-sdk-1.37.0 opentelemetry-semantic-conventions-0.58b0 opentelemetry-util-http-0.58b0 overrides-7.7.0 posthog-6.7.6 protobuf-6.32.1 pyasn1-0.6.1 pyasn1-modules-0.4.2 pypika-0.48.9 pyproject_hooks-1.2.0 requests-oauthlib-2.0.0 rsa-4.9.1 starlette-0.48.0 tenacity-9.1.2 urllib3-2.3.0 uvicorn-0.37.0 uvloop-0.21.0 watchfiles-1.1.0 websockets-15.0.1 zipp-3.23.0\r\n",
      "\r\n",
      "\u001B[1m[\u001B[0m\u001B[34;49mnotice\u001B[0m\u001B[1;39;49m]\u001B[0m\u001B[39;49m A new release of pip is available: \u001B[0m\u001B[31;49m24.3.1\u001B[0m\u001B[39;49m -> \u001B[0m\u001B[32;49m25.2\u001B[0m\r\n",
      "\u001B[1m[\u001B[0m\u001B[34;49mnotice\u001B[0m\u001B[1;39;49m]\u001B[0m\u001B[39;49m To update, run: \u001B[0m\u001B[32;49mpip install --upgrade pip\u001B[0m\r\n",
      "Note: you may need to restart the kernel to use updated packages.\n"
     ]
    }
   ],
   "execution_count": 3
  },
  {
   "metadata": {
    "ExecuteTime": {
     "end_time": "2025-10-06T10:47:45.141997Z",
     "start_time": "2025-10-06T10:47:44.761431Z"
    }
   },
   "cell_type": "code",
   "source": [
    "from src.core.settings import DB_USER, DB_HOST, DB_PASS, DB_PORT, DB_NAME, VANNA_MODEL_NAME, VANNA_API_KEY\n",
    "from vanna.remote import VannaDefault\n",
    "vn = VannaDefault(model=VANNA_MODEL_NAME, api_key=VANNA_API_KEY)\n",
    "vn.connect_to_postgres(host=DB_HOST, dbname=DB_NAME, user=DB_USER, password=DB_PASS, port=DB_PORT)"
   ],
   "id": "a72cf83e056c2b17",
   "outputs": [],
   "execution_count": 1
  },
  {
   "metadata": {
    "ExecuteTime": {
     "end_time": "2025-10-06T11:58:16.192934Z",
     "start_time": "2025-10-06T11:58:16.055093Z"
    }
   },
   "cell_type": "code",
   "source": [
    "df_information_schema = vn.run_sql(\"SELECT * FROM INFORMATION_SCHEMA.COLUMNS\")\n",
    "my_tables = ['articles', 'compounds', 'article_compound', 'assays']\n",
    "df_schema = df_information_schema[df_information_schema['table_name'].isin(my_tables)]\n",
    "plan = vn.get_training_plan_generic(df_schema)\n",
    "plan.get_summary()"
   ],
   "id": "1aaac6caf165daf",
   "outputs": [
    {
     "data": {
      "text/plain": [
       "['Train on Information Schema: pubchem.public articles',\n",
       " 'Train on Information Schema: pubchem.public assays',\n",
       " 'Train on Information Schema: pubchem.public article_compound',\n",
       " 'Train on Information Schema: pubchem.public compounds']"
      ]
     },
     "execution_count": 23,
     "metadata": {},
     "output_type": "execute_result"
    }
   ],
   "execution_count": 23
  },
  {
   "metadata": {
    "ExecuteTime": {
     "end_time": "2025-10-06T12:01:34.710821Z",
     "start_time": "2025-10-06T12:01:30.914425Z"
    }
   },
   "cell_type": "code",
   "source": "vn.train(plan=plan)",
   "id": "ec0e0ccf329525d",
   "outputs": [],
   "execution_count": 27
  },
  {
   "metadata": {
    "ExecuteTime": {
     "end_time": "2025-10-06T09:21:32.427439Z",
     "start_time": "2025-10-06T09:21:31.079191Z"
    }
   },
   "cell_type": "code",
   "source": [
    "vn.train(documentation=\"To find the most frequently mentioned compound, join compounds and article_compound tables.\")\n",
    "vn.train(documentation=\"Example: SELECT c.name, COUNT(ac.article_id) FROM compounds c JOIN article_compound ac ON c.id = ac.compound_id GROUP BY c.name ORDER BY COUNT(ac.article_id) DESC;\")\n"
   ],
   "id": "4681ae646384c2da",
   "outputs": [
    {
     "name": "stdout",
     "output_type": "stream",
     "text": [
      "Adding documentation....\n",
      "Adding documentation....\n"
     ]
    },
    {
     "data": {
      "text/plain": [
       "''"
      ]
     },
     "execution_count": 9,
     "metadata": {},
     "output_type": "execute_result"
    }
   ],
   "execution_count": 9
  },
  {
   "metadata": {
    "jupyter": {
     "is_executing": true
    },
    "ExecuteTime": {
     "start_time": "2025-10-06T12:40:51.182573Z"
    }
   },
   "cell_type": "code",
   "source": [
    "from vanna.flask import VannaFlaskApp\n",
    "app = VannaFlaskApp(vn)\n",
    "app.run()"
   ],
   "id": "1cbf0dce0692b519",
   "outputs": [
    {
     "name": "stdout",
     "output_type": "stream",
     "text": [
      "Your app is running at:\n",
      "http://localhost:8084\n",
      " * Serving Flask app 'vanna.flask'\n",
      " * Debug mode: on\n"
     ]
    }
   ],
   "execution_count": null
  },
  {
   "metadata": {
    "ExecuteTime": {
     "end_time": "2025-10-06T12:40:31.689622Z",
     "start_time": "2025-10-06T12:40:21.459007Z"
    }
   },
   "cell_type": "code",
   "source": [
    "# 1. Find all compounds with molecular weight < 500\n",
    "vn.train(\n",
    "    question=\"Find all compounds with molecular weight less than 500\",\n",
    "    sql=\"\"\"\n",
    "    SELECT id, name, molecular_weight\n",
    "    FROM compounds\n",
    "    WHERE molecular_weight < 500\n",
    "    \"\"\"\n",
    ")\n",
    "\n",
    "# 2. Find all compounds that were active in a given BioAssay\n",
    "vn.train(\n",
    "    question=\"Find all compounds that were active in BioAssay X\",\n",
    "    sql=\"\"\"\n",
    "    SELECT c.id, c.name, a.assay_id, a.activity_outcome\n",
    "    FROM compounds c\n",
    "    JOIN assays a ON c.id = a.compound_id\n",
    "    WHERE a.assay_id = 'X' AND a.activity_outcome = 'active'\n",
    "    \"\"\"\n",
    ")\n",
    "\n",
    "# 3. List all articles that mention a specific compound\n",
    "vn.train(\n",
    "    question=\"Which articles mention compound 'Imatinib'?\",\n",
    "    sql=\"\"\"\n",
    "    SELECT ar.id, ar.title, ar.journal, ar.disease_area\n",
    "    FROM articles ar\n",
    "    JOIN article_compound ac ON ar.id = ac.article_id\n",
    "    JOIN compounds c ON ac.compound_id = c.id\n",
    "    WHERE c.name ILIKE 'Imatinib'\n",
    "    \"\"\"\n",
    ")\n",
    "\n",
    "# 4. Retrieve all compounds studied in oncology-related articles\n",
    "vn.train(\n",
    "    question=\"List compounds studied in oncology articles\",\n",
    "    sql=\"\"\"\n",
    "    SELECT DISTINCT c.id, c.name, ar.title\n",
    "    FROM compounds c\n",
    "    JOIN article_compound ac ON c.id = ac.compound_id\n",
    "    JOIN articles ar ON ac.article_id = ar.id\n",
    "    WHERE ar.disease_area ILIKE 'oncology'\n",
    "    \"\"\"\n",
    ")\n",
    "\n",
    "# 5. Find compounds that pass Lipinski’s rule of five\n",
    "vn.train(\n",
    "    question=\"Which compounds pass Lipinski's rule of five?\",\n",
    "    sql=\"\"\"\n",
    "    SELECT id, name, molecular_weight, logp, tpsa\n",
    "    FROM compounds\n",
    "    WHERE lipinski_pass = TRUE\n",
    "    \"\"\"\n",
    ")\n",
    "\n",
    "# 6. Get assays with potency values below 10 uM\n",
    "vn.train(\n",
    "    question=\"Which assays report potency values below 10 uM?\",\n",
    "    sql=\"\"\"\n",
    "    SELECT assay_id, compound_id, potency_value, potency_unit\n",
    "    FROM assays\n",
    "    WHERE potency_value < 10 AND potency_unit = 'uM'\n",
    "    \"\"\"\n",
    ")\n",
    "\n",
    "# 7. Show all compounds and their activity outcomes against a given target\n",
    "vn.train(\n",
    "    question=\"Show compounds tested against EGFR and their outcomes\",\n",
    "    sql=\"\"\"\n",
    "    SELECT c.name, a.assay_id, a.activity_outcome, a.potency_value, a.potency_unit\n",
    "    FROM compounds c\n",
    "    JOIN assays a ON c.id = a.compound_id\n",
    "    WHERE a.target_name ILIKE 'EGFR'\n",
    "    \"\"\"\n",
    ")\n"
   ],
   "id": "2f3a99714ece1795",
   "outputs": [
    {
     "data": {
      "text/plain": [
       "'845dbe085f0608a3122333cab4202b8d-sql'"
      ]
     },
     "execution_count": 31,
     "metadata": {},
     "output_type": "execute_result"
    }
   ],
   "execution_count": 31
  },
  {
   "metadata": {
    "ExecuteTime": {
     "end_time": "2025-10-06T12:40:41.935794Z",
     "start_time": "2025-10-06T12:40:37.097509Z"
    }
   },
   "cell_type": "code",
   "source": [
    "vn.add_documentation(\n",
    "    documentation=\"Articles are scientific publications indexed by PubMed. Each article may reference multiple compounds.\"\n",
    ")\n",
    "\n",
    "vn.add_documentation(\n",
    "    documentation=\"Compounds represent small molecules or drugs, enriched with PubChem properties such as molecular weight, logP, TPSA, and Lipinski's rule compliance.\"\n",
    ")\n",
    "\n",
    "vn.add_documentation(\n",
    "    documentation=\"The article_compound table is a many-to-many relationship linking articles and compounds, with optional context text describing how the compound is mentioned.\"\n",
    ")\n",
    "\n",
    "vn.add_documentation(\n",
    "    documentation=\"Assays represent experimental tests of compounds. Each assay has an outcome (active, inactive, inconclusive, etc.), a target name, and potency values with units.\"\n",
    ")\n",
    "\n",
    "vn.add_documentation(\n",
    "    documentation=\"Lipinski's rule of five is a heuristic to evaluate drug-likeness. If lipinski_pass is TRUE, the compound is considered likely to be orally active.\"\n",
    ")\n",
    "\n",
    "vn.add_documentation(\n",
    "    documentation=\"The disease_area field in articles indicates the therapeutic area of research, such as oncology, cardiology, or neurology.\"\n",
    ")"
   ],
   "id": "90d580e99469dab6",
   "outputs": [
    {
     "data": {
      "text/plain": [
       "'3458348-doc'"
      ]
     },
     "execution_count": 32,
     "metadata": {},
     "output_type": "execute_result"
    }
   ],
   "execution_count": 32
  }
 ],
 "metadata": {
  "kernelspec": {
   "display_name": "Python 3",
   "language": "python",
   "name": "python3"
  },
  "language_info": {
   "codemirror_mode": {
    "name": "ipython",
    "version": 2
   },
   "file_extension": ".py",
   "mimetype": "text/x-python",
   "name": "python",
   "nbconvert_exporter": "python",
   "pygments_lexer": "ipython2",
   "version": "2.7.6"
  }
 },
 "nbformat": 4,
 "nbformat_minor": 5
}
